{
  "nbformat": 4,
  "nbformat_minor": 0,
  "metadata": {
    "colab": {
      "name": "simple-ITK_sample.ipynb",
      "provenance": [],
      "authorship_tag": "ABX9TyOc9oQzEx7phYnzYG/Hwy3C",
      "include_colab_link": true
    },
    "kernelspec": {
      "name": "python3",
      "display_name": "Python 3"
    },
    "language_info": {
      "name": "python"
    }
  },
  "cells": [
    {
      "cell_type": "markdown",
      "metadata": {
        "id": "view-in-github",
        "colab_type": "text"
      },
      "source": [
        "<a href=\"https://colab.research.google.com/github/sowmR/pythonImageProcessing/blob/master/simple_ITK_sample.ipynb\" target=\"_parent\"><img src=\"https://colab.research.google.com/assets/colab-badge.svg\" alt=\"Open In Colab\"/></a>"
      ]
    },
    {
      "cell_type": "code",
      "metadata": {
        "id": "BaIHkEVIzf0S"
      },
      "source": [
        "import os\n",
        "%matplotlib inline\n",
        "import matplotlib.pyplot as plt\n",
        "import matplotlib as mpl\n",
        "\n",
        "mpl.rc(\"image\", aspect=\"equal\")\n",
        "import SimpleITK as sitk"
      ],
      "execution_count": 3,
      "outputs": []
    }
  ]
}